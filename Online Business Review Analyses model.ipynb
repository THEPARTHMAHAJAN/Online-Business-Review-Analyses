{
 "cells": [
  {
   "cell_type": "code",
   "execution_count": 1,
   "metadata": {
    "_cell_guid": "b1076dfc-b9ad-4769-8c92-a6c4dae69d19",
    "_uuid": "8f2839f25d086af736a60e9eeb907d3b93b6e0e5",
    "execution": {
     "iopub.execute_input": "2021-09-04T15:36:47.205175Z",
     "iopub.status.busy": "2021-09-04T15:36:47.204283Z",
     "iopub.status.idle": "2021-09-04T15:36:49.035915Z",
     "shell.execute_reply": "2021-09-04T15:36:49.034654Z",
     "shell.execute_reply.started": "2021-09-04T15:36:47.205008Z"
    }
   },
   "outputs": [],
   "source": [
    "from textblob import TextBlob\n",
    "from sklearn.feature_extraction.text import TfidfVectorizer\n",
    "from sklearn.feature_extraction import text\n",
    "import pandas as pd\n",
    "import numpy as np\n",
    "import matplotlib.pyplot as plt\n",
    "from sklearn.model_selection import train_test_split\n",
    "from sklearn.linear_model import LogisticRegression\n",
    "from sklearn.ensemble import RandomForestClassifier\n",
    "from sklearn.tree import DecisionTreeClassifier\n",
    "from sklearn.neural_network import MLPClassifier\n",
    "from sklearn.metrics import accuracy_score"
   ]
  },
  {
   "cell_type": "code",
   "execution_count": null,
   "metadata": {},
   "outputs": [],
   "source": []
  },
  {
   "cell_type": "markdown",
   "metadata": {},
   "source": [
    "<h1>Loading the Data and Preparing it</h1>\n",
    "<p>Load the data set present in csv format. The dataset consists of two columns - \n",
    "<ul>\n",
    "    <li><i>Review</i> - Review of the user</li>\n",
    "    <li><i>Rating</i> - Rating of the user out of 5</li>\n",
    "</ul>\n",
    "</p>"
   ]
  },
  {
   "cell_type": "code",
   "execution_count": 2,
   "metadata": {
    "execution": {
     "iopub.execute_input": "2021-09-04T15:36:52.565920Z",
     "iopub.status.busy": "2021-09-04T15:36:52.565481Z",
     "iopub.status.idle": "2021-09-04T15:36:53.096318Z",
     "shell.execute_reply": "2021-09-04T15:36:53.095019Z",
     "shell.execute_reply.started": "2021-09-04T15:36:52.565876Z"
    }
   },
   "outputs": [
    {
     "data": {
      "text/html": [
       "<div>\n",
       "<style scoped>\n",
       "    .dataframe tbody tr th:only-of-type {\n",
       "        vertical-align: middle;\n",
       "    }\n",
       "\n",
       "    .dataframe tbody tr th {\n",
       "        vertical-align: top;\n",
       "    }\n",
       "\n",
       "    .dataframe thead th {\n",
       "        text-align: right;\n",
       "    }\n",
       "</style>\n",
       "<table border=\"1\" class=\"dataframe\">\n",
       "  <thead>\n",
       "    <tr style=\"text-align: right;\">\n",
       "      <th></th>\n",
       "      <th>Review</th>\n",
       "      <th>Rating</th>\n",
       "    </tr>\n",
       "  </thead>\n",
       "  <tbody>\n",
       "    <tr>\n",
       "      <th>0</th>\n",
       "      <td>nice hotel expensive parking got good deal sta...</td>\n",
       "      <td>4</td>\n",
       "    </tr>\n",
       "    <tr>\n",
       "      <th>1</th>\n",
       "      <td>ok nothing special charge diamond member hilto...</td>\n",
       "      <td>2</td>\n",
       "    </tr>\n",
       "    <tr>\n",
       "      <th>2</th>\n",
       "      <td>nice rooms not 4* experience hotel monaco seat...</td>\n",
       "      <td>3</td>\n",
       "    </tr>\n",
       "    <tr>\n",
       "      <th>3</th>\n",
       "      <td>unique, great stay, wonderful time hotel monac...</td>\n",
       "      <td>5</td>\n",
       "    </tr>\n",
       "    <tr>\n",
       "      <th>4</th>\n",
       "      <td>great stay great stay, went seahawk game aweso...</td>\n",
       "      <td>5</td>\n",
       "    </tr>\n",
       "  </tbody>\n",
       "</table>\n",
       "</div>"
      ],
      "text/plain": [
       "                                              Review  Rating\n",
       "0  nice hotel expensive parking got good deal sta...       4\n",
       "1  ok nothing special charge diamond member hilto...       2\n",
       "2  nice rooms not 4* experience hotel monaco seat...       3\n",
       "3  unique, great stay, wonderful time hotel monac...       5\n",
       "4  great stay great stay, went seahawk game aweso...       5"
      ]
     },
     "execution_count": 2,
     "metadata": {},
     "output_type": "execute_result"
    }
   ],
   "source": [
    "data = pd.read_csv(\"tripadvisor_hotel_reviews.csv\")\n",
    "data.head(5)"
   ]
  },
  {
   "cell_type": "code",
   "execution_count": 3,
   "metadata": {
    "execution": {
     "iopub.execute_input": "2021-09-04T15:36:55.497251Z",
     "iopub.status.busy": "2021-09-04T15:36:55.496788Z",
     "iopub.status.idle": "2021-09-04T15:36:55.512905Z",
     "shell.execute_reply": "2021-09-04T15:36:55.511493Z",
     "shell.execute_reply.started": "2021-09-04T15:36:55.497214Z"
    }
   },
   "outputs": [
    {
     "data": {
      "text/plain": [
       "Review    0\n",
       "Rating    0\n",
       "dtype: int64"
      ]
     },
     "execution_count": 3,
     "metadata": {},
     "output_type": "execute_result"
    }
   ],
   "source": [
    "data.isna().sum()"
   ]
  },
  {
   "cell_type": "markdown",
   "metadata": {},
   "source": [
    "<h1>Exploratory Analysis</h1>\n",
    "<p>Conduct visualization of the dataset. Generate sentiment of each review and add it to the dataset.\n",
    "</p>"
   ]
  },
  {
   "cell_type": "markdown",
   "metadata": {},
   "source": [
    "<h3>Sentiment Analylsis of each Review</h3>"
   ]
  },
  {
   "cell_type": "code",
   "execution_count": 4,
   "metadata": {
    "execution": {
     "iopub.execute_input": "2021-09-04T15:37:05.293231Z",
     "iopub.status.busy": "2021-09-04T15:37:05.292810Z",
     "iopub.status.idle": "2021-09-04T15:38:10.529983Z",
     "shell.execute_reply": "2021-09-04T15:38:10.528609Z",
     "shell.execute_reply.started": "2021-09-04T15:37:05.293198Z"
    }
   },
   "outputs": [],
   "source": [
    "sentiments = []\n",
    "for review in data['Review']:\n",
    "    if TextBlob(review).sentiment.polarity < 0:\n",
    "        sentiments.append(\"Negative\")\n",
    "    if TextBlob(review).sentiment.polarity == 0:\n",
    "        sentiments.append(\"Neutral\")\n",
    "    if TextBlob(review).sentiment.polarity > 0:\n",
    "        sentiments.append(\"Positive\")\n",
    "data[\"Sentiment\"] = np.array(sentiments)"
   ]
  },
  {
   "cell_type": "code",
   "execution_count": 5,
   "metadata": {
    "execution": {
     "iopub.execute_input": "2021-09-04T15:38:13.590085Z",
     "iopub.status.busy": "2021-09-04T15:38:13.589616Z",
     "iopub.status.idle": "2021-09-04T15:38:13.595970Z",
     "shell.execute_reply": "2021-09-04T15:38:13.594531Z",
     "shell.execute_reply.started": "2021-09-04T15:38:13.590046Z"
    }
   },
   "outputs": [],
   "source": [
    "del sentiments"
   ]
  },
  {
   "cell_type": "code",
   "execution_count": 6,
   "metadata": {
    "execution": {
     "iopub.execute_input": "2021-09-04T15:38:17.265387Z",
     "iopub.status.busy": "2021-09-04T15:38:17.265014Z",
     "iopub.status.idle": "2021-09-04T15:38:17.681442Z",
     "shell.execute_reply": "2021-09-04T15:38:17.680472Z",
     "shell.execute_reply.started": "2021-09-04T15:38:17.265357Z"
    }
   },
   "outputs": [
    {
     "data": {
      "image/png": "[encoded data removed]",
      "text/plain": [
       "<Figure size 1080x360 with 2 Axes>"
      ]
     },
     "metadata": {
      "needs_background": "light"
     },
     "output_type": "display_data"
    }
   ],
   "source": [
    "plt.figure(figsize=(15,5))\n",
    "plt.subplot(1,2,1)\n",
    "x_axis,counts = np.unique(data['Rating'],return_counts=True)\n",
    "plt.bar([str(i) for i in x_axis],counts)\n",
    "plt.title(\"Rating vs Counts\")\n",
    "plt.xlabel(\"Rating\")\n",
    "plt.ylabel(\"Count\")\n",
    "\n",
    "plt.subplot(1,2,2)\n",
    "x_axis,counts = np.unique(data['Sentiment'],return_counts=True)\n",
    "plt.bar(x_axis,counts)\n",
    "plt.title(\"Sentiment vs Counts\")\n",
    "plt.xlabel(\"Sentiment\")\n",
    "plt.ylabel(\"Count\")\n",
    "plt.tight_layout()"
   ]
  },
  {
   "cell_type": "markdown",
   "metadata": {},
   "source": [
    "<p>Majority of the reviews are 4 and 5 and denotes a high number of positive reviews in comparison with negative and neutral reviews</p>"
   ]
  },
  {
   "cell_type": "markdown",
   "metadata": {},
   "source": [
    "<h1>Natural Language Processing</h1>\n",
    "<p>Using TextBlob, we will try to predict what approximate rating each review can get, consdiering the rating is dependent only on the content of the review and is not subject to any bias. We will use the Naive Bayes Classifier from TextBlob to build a text classification system.</p>"
   ]
  },
  {
   "cell_type": "code",
   "execution_count": 7,
   "metadata": {
    "execution": {
     "iopub.execute_input": "2021-09-04T15:27:20.466787Z",
     "iopub.status.busy": "2021-09-04T15:27:20.466373Z",
     "iopub.status.idle": "2021-09-04T15:27:36.249902Z",
     "shell.execute_reply": "2021-09-04T15:27:36.248772Z",
     "shell.execute_reply.started": "2021-09-04T15:27:20.466750Z"
    }
   },
   "outputs": [],
   "source": [
    "vectorizer = TfidfVectorizer(stop_words=text.ENGLISH_STOP_WORDS)\n",
    "X_train,X_test,Y_train,Y_test = train_test_split(vectorizer.fit_transform(data['Review']).toarray(),\n",
    "                                                 data['Rating'].values,\n",
    "                                                 test_size = 0.2,\n",
    "                                                 random_state=42)"
   ]
  },
  {
   "cell_type": "code",
   "execution_count": 8,
   "metadata": {
    "execution": {
     "iopub.execute_input": "2021-09-04T15:27:36.252678Z",
     "iopub.status.busy": "2021-09-04T15:27:36.252350Z",
     "iopub.status.idle": "2021-09-04T15:27:36.260635Z",
     "shell.execute_reply": "2021-09-04T15:27:36.259511Z",
     "shell.execute_reply.started": "2021-09-04T15:27:36.252643Z"
    }
   },
   "outputs": [
    {
     "name": "stdout",
     "output_type": "stream",
     "text": [
      "Train Features :  (16392, 52650)\n",
      "Train Labels   :  (16392,)\n",
      "Test Features  :  (4099, 52650)\n",
      "Test Labels    :  (4099,)\n"
     ]
    }
   ],
   "source": [
    "print(\"Train Features : \",X_train.shape)\n",
    "print(\"Train Labels   : \",Y_train.shape)\n",
    "print(\"Test Features  : \",X_test.shape)\n",
    "print(\"Test Labels    : \",Y_test.shape)"
   ]
  },
  {
   "cell_type": "markdown",
   "metadata": {},
   "source": [
    "LOGISTIC REGRESSION"
   ]
  },
  {
   "cell_type": "code",
   "execution_count": 9,
   "metadata": {
    "execution": {
     "iopub.execute_input": "2021-09-04T15:27:36.262669Z",
     "iopub.status.busy": "2021-09-04T15:27:36.262379Z",
     "iopub.status.idle": "2021-09-04T15:27:46.105386Z",
     "shell.execute_reply": "2021-09-04T15:27:46.104271Z",
     "shell.execute_reply.started": "2021-09-04T15:27:36.262638Z"
    }
   },
   "outputs": [
    {
     "name": "stdout",
     "output_type": "stream",
     "text": [
      "Train Accuracy : 76.15 %\n",
      "Test Accuracy  : 62.11 %\n"
     ]
    }
   ],
   "source": [
    "clf = LogisticRegression(solver='liblinear',random_state=0)\n",
    "clf.fit(X_train,Y_train)\n",
    "print(\"Train Accuracy : {:.2f} %\".format(accuracy_score(clf.predict(X_train),Y_train)*100))\n",
    "print(\"Test Accuracy  : {:.2f} %\".format(accuracy_score(clf.predict(X_test),Y_test)*100))"
   ]
  },
  {
   "cell_type": "markdown",
   "metadata": {},
   "source": [
    "DECISION TREE"
   ]
  },
  {
   "cell_type": "code",
   "execution_count": null,
   "metadata": {
    "execution": {
     "iopub.execute_input": "2021-09-04T15:27:46.107848Z",
     "iopub.status.busy": "2021-09-04T15:27:46.107192Z",
     "iopub.status.idle": "2021-09-04T15:30:04.877134Z",
     "shell.execute_reply": "2021-09-04T15:30:04.875776Z",
     "shell.execute_reply.started": "2021-09-04T15:27:46.107789Z"
    }
   },
   "outputs": [],
   "source": [
    "clf = DecisionTreeClassifier(random_state=0)\n",
    "clf.fit(X_train,Y_train)\n",
    "print(\"Train Accuracy : {:.2f} %\".format(accuracy_score(clf.predict(X_train),Y_train)*100))\n",
    "print(\"Test Accuracy  : {:.2f} %\".format(accuracy_score(clf.predict(X_test),Y_test)*100))"
   ]
  },
  {
   "cell_type": "markdown",
   "metadata": {},
   "source": [
    "RANDOM FOREST"
   ]
  },
  {
   "cell_type": "code",
   "execution_count": 11,
   "metadata": {
    "execution": {
     "iopub.execute_input": "2021-09-04T15:30:04.878842Z",
     "iopub.status.busy": "2021-09-04T15:30:04.878498Z",
     "iopub.status.idle": "2021-09-04T15:34:41.870217Z",
     "shell.execute_reply": "2021-09-04T15:34:41.868996Z",
     "shell.execute_reply.started": "2021-09-04T15:30:04.878807Z"
    }
   },
   "outputs": [
    {
     "name": "stdout",
     "output_type": "stream",
     "text": [
      "Train Accuracy : 100.00 %\n",
      "Test Accuracy  : 51.92 %\n"
     ]
    }
   ],
   "source": [
    "clf = RandomForestClassifier(n_estimators=100)\n",
    "clf.fit(X_train,Y_train)\n",
    "print(\"Train Accuracy : {:.2f} %\".format(accuracy_score(clf.predict(X_train),Y_train)*100))\n",
    "print(\"Test Accuracy  : {:.2f} %\".format(accuracy_score(clf.predict(X_test),Y_test)*100))"
   ]
  },
  {
   "cell_type": "markdown",
   "metadata": {},
   "source": [
    "SubGrouping of guven groups"
   ]
  },
  {
   "cell_type": "code",
   "execution_count": 12,
   "metadata": {
    "execution": {
     "iopub.execute_input": "2021-09-04T15:38:31.805997Z",
     "iopub.status.busy": "2021-09-04T15:38:31.805388Z",
     "iopub.status.idle": "2021-09-04T15:38:31.828255Z",
     "shell.execute_reply": "2021-09-04T15:38:31.827487Z",
     "shell.execute_reply.started": "2021-09-04T15:38:31.805960Z"
    }
   },
   "outputs": [],
   "source": [
    "groups = []\n",
    "for rating in data['Rating']:\n",
    "    if rating in [1,2,3]:\n",
    "        groups.append(0)\n",
    "    else:\n",
    "        groups.append(1)\n",
    "data['Group'] = groups"
   ]
  },
  {
   "cell_type": "code",
   "execution_count": 13,
   "metadata": {
    "execution": {
     "iopub.execute_input": "2021-09-04T15:38:34.727980Z",
     "iopub.status.busy": "2021-09-04T15:38:34.727388Z",
     "iopub.status.idle": "2021-09-04T15:38:34.747033Z",
     "shell.execute_reply": "2021-09-04T15:38:34.746204Z",
     "shell.execute_reply.started": "2021-09-04T15:38:34.727945Z"
    }
   },
   "outputs": [
    {
     "data": {
      "text/html": [
       "<div>\n",
       "<style scoped>\n",
       "    .dataframe tbody tr th:only-of-type {\n",
       "        vertical-align: middle;\n",
       "    }\n",
       "\n",
       "    .dataframe tbody tr th {\n",
       "        vertical-align: top;\n",
       "    }\n",
       "\n",
       "    .dataframe thead th {\n",
       "        text-align: right;\n",
       "    }\n",
       "</style>\n",
       "<table border=\"1\" class=\"dataframe\">\n",
       "  <thead>\n",
       "    <tr style=\"text-align: right;\">\n",
       "      <th></th>\n",
       "      <th>Review</th>\n",
       "      <th>Rating</th>\n",
       "      <th>Sentiment</th>\n",
       "      <th>Group</th>\n",
       "    </tr>\n",
       "  </thead>\n",
       "  <tbody>\n",
       "    <tr>\n",
       "      <th>0</th>\n",
       "      <td>nice hotel expensive parking got good deal sta...</td>\n",
       "      <td>4</td>\n",
       "      <td>Positive</td>\n",
       "      <td>1</td>\n",
       "    </tr>\n",
       "    <tr>\n",
       "      <th>1</th>\n",
       "      <td>ok nothing special charge diamond member hilto...</td>\n",
       "      <td>2</td>\n",
       "      <td>Positive</td>\n",
       "      <td>0</td>\n",
       "    </tr>\n",
       "    <tr>\n",
       "      <th>2</th>\n",
       "      <td>nice rooms not 4* experience hotel monaco seat...</td>\n",
       "      <td>3</td>\n",
       "      <td>Positive</td>\n",
       "      <td>0</td>\n",
       "    </tr>\n",
       "    <tr>\n",
       "      <th>3</th>\n",
       "      <td>unique, great stay, wonderful time hotel monac...</td>\n",
       "      <td>5</td>\n",
       "      <td>Positive</td>\n",
       "      <td>1</td>\n",
       "    </tr>\n",
       "    <tr>\n",
       "      <th>4</th>\n",
       "      <td>great stay great stay, went seahawk game aweso...</td>\n",
       "      <td>5</td>\n",
       "      <td>Positive</td>\n",
       "      <td>1</td>\n",
       "    </tr>\n",
       "    <tr>\n",
       "      <th>...</th>\n",
       "      <td>...</td>\n",
       "      <td>...</td>\n",
       "      <td>...</td>\n",
       "      <td>...</td>\n",
       "    </tr>\n",
       "    <tr>\n",
       "      <th>20486</th>\n",
       "      <td>best kept secret 3rd time staying charm, not 5...</td>\n",
       "      <td>5</td>\n",
       "      <td>Positive</td>\n",
       "      <td>1</td>\n",
       "    </tr>\n",
       "    <tr>\n",
       "      <th>20487</th>\n",
       "      <td>great location price view hotel great quick pl...</td>\n",
       "      <td>4</td>\n",
       "      <td>Positive</td>\n",
       "      <td>1</td>\n",
       "    </tr>\n",
       "    <tr>\n",
       "      <th>20488</th>\n",
       "      <td>ok just looks nice modern outside, desk staff ...</td>\n",
       "      <td>2</td>\n",
       "      <td>Positive</td>\n",
       "      <td>0</td>\n",
       "    </tr>\n",
       "    <tr>\n",
       "      <th>20489</th>\n",
       "      <td>hotel theft ruined vacation hotel opened sept ...</td>\n",
       "      <td>1</td>\n",
       "      <td>Positive</td>\n",
       "      <td>0</td>\n",
       "    </tr>\n",
       "    <tr>\n",
       "      <th>20490</th>\n",
       "      <td>people talking, ca n't believe excellent ratin...</td>\n",
       "      <td>2</td>\n",
       "      <td>Positive</td>\n",
       "      <td>0</td>\n",
       "    </tr>\n",
       "  </tbody>\n",
       "</table>\n",
       "<p>20491 rows × 4 columns</p>\n",
       "</div>"
      ],
      "text/plain": [
       "                                                  Review  Rating Sentiment  \\\n",
       "0      nice hotel expensive parking got good deal sta...       4  Positive   \n",
       "1      ok nothing special charge diamond member hilto...       2  Positive   \n",
       "2      nice rooms not 4* experience hotel monaco seat...       3  Positive   \n",
       "3      unique, great stay, wonderful time hotel monac...       5  Positive   \n",
       "4      great stay great stay, went seahawk game aweso...       5  Positive   \n",
       "...                                                  ...     ...       ...   \n",
       "20486  best kept secret 3rd time staying charm, not 5...       5  Positive   \n",
       "20487  great location price view hotel great quick pl...       4  Positive   \n",
       "20488  ok just looks nice modern outside, desk staff ...       2  Positive   \n",
       "20489  hotel theft ruined vacation hotel opened sept ...       1  Positive   \n",
       "20490  people talking, ca n't believe excellent ratin...       2  Positive   \n",
       "\n",
       "       Group  \n",
       "0          1  \n",
       "1          0  \n",
       "2          0  \n",
       "3          1  \n",
       "4          1  \n",
       "...      ...  \n",
       "20486      1  \n",
       "20487      1  \n",
       "20488      0  \n",
       "20489      0  \n",
       "20490      0  \n",
       "\n",
       "[20491 rows x 4 columns]"
      ]
     },
     "execution_count": 13,
     "metadata": {},
     "output_type": "execute_result"
    }
   ],
   "source": [
    "data"
   ]
  },
  {
   "cell_type": "markdown",
   "metadata": {},
   "source": [
    "<p>Let us perform the train test split again, but this time with Group as the target.</p>"
   ]
  },
  {
   "cell_type": "code",
   "execution_count": 14,
   "metadata": {
    "execution": {
     "iopub.execute_input": "2021-09-04T15:38:56.149814Z",
     "iopub.status.busy": "2021-09-04T15:38:56.149372Z",
     "iopub.status.idle": "2021-09-04T15:39:10.630877Z",
     "shell.execute_reply": "2021-09-04T15:39:10.629565Z",
     "shell.execute_reply.started": "2021-09-04T15:38:56.149778Z"
    }
   },
   "outputs": [],
   "source": [
    "vectorizer = TfidfVectorizer(stop_words=text.ENGLISH_STOP_WORDS)\n",
    "X_train,X_test,Y_train,Y_test = train_test_split(vectorizer.fit_transform(data['Review']).toarray(),\n",
    "                                                 data['Group'].values,\n",
    "                                                 test_size = 0.2,\n",
    "                                                 random_state=42)"
   ]
  },
  {
   "cell_type": "code",
   "execution_count": 15,
   "metadata": {
    "execution": {
     "iopub.execute_input": "2021-09-04T15:39:19.277633Z",
     "iopub.status.busy": "2021-09-04T15:39:19.277099Z",
     "iopub.status.idle": "2021-09-04T15:39:26.131254Z",
     "shell.execute_reply": "2021-09-04T15:39:26.130041Z",
     "shell.execute_reply.started": "2021-09-04T15:39:19.277599Z"
    }
   },
   "outputs": [
    {
     "name": "stdout",
     "output_type": "stream",
     "text": [
      "Train Accuracy : 93.08 %\n",
      "Test Accuracy  : 90.07 %\n"
     ]
    }
   ],
   "source": [
    "clf = LogisticRegression(solver='liblinear',random_state=0)\n",
    "clf.fit(X_train,Y_train)\n",
    "print(\"Train Accuracy : {:.2f} %\".format(accuracy_score(clf.predict(X_train),Y_train)*100))\n",
    "print(\"Test Accuracy  : {:.2f} %\".format(accuracy_score(clf.predict(X_test),Y_test)*100))"
   ]
  },
  {
   "cell_type": "markdown",
   "metadata": {},
   "source": [
    "<p>As seen above, Simple Logistic Regression itself achieves a good performance with using Group as a feature compare to using Rating as a feature.</p>"
   ]
  }
 ],
 "metadata": {
  "kernelspec": {
   "display_name": "Python 3 (ipykernel)",
   "language": "python",
   "name": "python3"
  },
  "language_info": {
   "codemirror_mode": {
    "name": "ipython",
    "version": 3
   },
   "file_extension": ".py",
   "mimetype": "text/x-python",
   "name": "python",
   "nbconvert_exporter": "python",
   "pygments_lexer": "ipython3",
   "version": "3.9.12"
  },
  "vscode": {
   "interpreter": {
    "hash": "31f2aee4e71d21fbe5cf8b01ff0e069b9275f58929596ceb00d14d90e3e16cd6"
   }
  }
 },
 "nbformat": 4,
 "nbformat_minor": 4
}
